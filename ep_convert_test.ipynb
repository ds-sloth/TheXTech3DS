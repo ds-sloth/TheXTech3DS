{
  "nbformat": 4,
  "nbformat_minor": 0,
  "metadata": {
    "colab": {
      "name": "ep-convert-test.ipynb",
      "provenance": []
    },
    "kernelspec": {
      "name": "python3",
      "display_name": "Python 3"
    },
    "language_info": {
      "name": "python"
    }
  },
  "cells": [
    {
      "cell_type": "markdown",
      "metadata": {
        "id": "ORwZiJ4lz97T"
      },
      "source": [
        "# Build and install conversion tools"
      ]
    },
    {
      "cell_type": "code",
      "metadata": {
        "id": "GtGivS41jWj1"
      },
      "source": [
        "!apt install imagemagick libmagick++-dev libfftw3-dev ffmpeg git automake dtrx\n",
        "!git clone \"https://github.com/devkitPro/3dstools\" 3dstools; cd 3dstools; ./autogen.sh; ./configure; make; mv mkromfs3ds /usr/local/bin; cd ..; rm 3dstools -rf\n",
        "!git clone \"https://github.com/devkitPro/tex3ds\" tex3ds; cd tex3ds; ./autogen.sh; ./configure; make; mv tex3ds /usr/local/bin; cd ..; rm tex3ds -rf"
      ],
      "execution_count": null,
      "outputs": []
    },
    {
      "cell_type": "markdown",
      "metadata": {
        "id": "NgQLh9Wn0HqP"
      },
      "source": [
        "# Upload an archive file containing your episode(s)"
      ]
    },
    {
      "cell_type": "code",
      "metadata": {
        "id": "JWrvyg2bjlgk"
      },
      "source": [
        "from google.colab import files\n",
        "uploaded = files.upload()\n",
        "filename = None\n",
        "for filename in uploaded.keys():\n",
        "    break\n",
        "if filename is None:\n",
        "    raise RuntimeError(\"No file supplied; please repeat.\")\n",
        "!mkdir uploaded; cd uploaded; dtrx --one here -f \"../$filename\"; rm \"../$filename\""
      ],
      "execution_count": null,
      "outputs": []
    },
    {
      "cell_type": "markdown",
      "metadata": {
        "id": "dgkuHsey4Ezm"
      },
      "source": [
        "# Convert your episode to 3DS format!"
      ]
    },
    {
      "cell_type": "code",
      "metadata": {
        "id": "pYXvMQNdnmRw"
      },
      "source": [
        "#!/usr/bin/python3\n",
        "\n",
        "# this is a simple script\n",
        "\n",
        "import os\n",
        "import sys\n",
        "import shutil\n",
        "import tqdm\n",
        "\n",
        "PREVIEW = False\n",
        "REDO = False\n",
        "datadir = 'uploaded'\n",
        "graphicsdir = os.path.join(datadir, 'graphics')\n",
        "outdir = 'converted'\n",
        "\n",
        "for dirpath, _, files in tqdm.tqdm(os.walk(datadir, topdown=True)):\n",
        "    outpath = outdir+dirpath[len(datadir):]\n",
        "    os.makedirs(outpath, exist_ok=True)\n",
        "    for fn in files:\n",
        "        rfn = os.path.join(dirpath, fn)\n",
        "        if not os.path.isfile(rfn): continue\n",
        "        destfn = os.path.join(outpath, fn)\n",
        "        bmpfn = os.path.join(outpath, fn[:-3]+'bmp')\n",
        "        t3xfn = os.path.join(outpath, fn[:-3]+'png')\n",
        "        if not REDO and (os.path.isfile(destfn) or ((fn.endswith('.gif') or fn.endswith('.png')) and os.path.isfile(t3xfn))): continue\n",
        "        #print(rfn)\n",
        "        if fn.endswith('.png'):\n",
        "            os.system(f'convert -sample 50% \"{rfn}\" \"{bmpfn}\"')\n",
        "        elif fn.endswith('m.gif') and os.path.isfile(rfn[:-5]+'.gif'):\n",
        "            continue\n",
        "        elif fn.endswith('.gif'):\n",
        "            maskfn = rfn[:-4]+'m.gif'\n",
        "            ftype = fn[:fn.rfind('-')]\n",
        "            altmaskfn_gif = os.path.join(graphicsdir, ftype, fn[:-4]+'m.gif')\n",
        "            altmaskfn_png = os.path.join(graphicsdir, ftype, fn[:-4]+'.png')\n",
        "            if os.path.isfile(maskfn):\n",
        "                os.system(f'convert \"{rfn}\" \"{maskfn}\" -alpha Off -compose CopyOpacity -composite -channel a -negate +channel -sample 50% -compress None \"{bmpfn}\"')\n",
        "            elif os.path.isfile(altmaskfn_gif):\n",
        "                if os.popen(f'identify -format \"%[fx:w*2],%[fx:h*2]\" \"{rfn}\"').read() == os.popen(f'identify -format \"%[fx:w*2],%[fx:h*2]\" \"{altmaskfn_gif}\"').read():\n",
        "                    os.system(f'convert \"{rfn}\" \"{altmaskfn_gif}\" -alpha Off -compose CopyOpacity -composite -channel a -negate +channel -sample 50% -compress None \"{bmpfn}\"')\n",
        "                else:\n",
        "                    os.system(f'convert -sample 50% -compress None \"{rfn}\" \"{bmpfn}\"')\n",
        "            elif os.path.isfile(altmaskfn_png):\n",
        "                if os.popen(f'identify -format \"%[fx:w*2],%[fx:h*2]\" \"{rfn}\"').read() == os.popen(f'identify -format \"%[fx:w*2],%[fx:h*2]\" \"{altmaskfn_png}\"').read():\n",
        "                    os.system(f'convert \"{rfn}\" \"{altmaskfn_png}\" -alpha On -compose CopyOpacity -composite -sample 50% -compress None \"{bmpfn}\"')\n",
        "                else:\n",
        "                    os.system(f'convert -sample 50% -compress None \"{rfn}\" \"{bmpfn}\"')\n",
        "            else:\n",
        "                os.system(f'convert -sample 50% -compress None \"{rfn}\" \"{bmpfn}\"')\n",
        "        elif fn.endswith('.db'):\n",
        "            continue\n",
        "        elif fn.endswith('.ogg'): continue\n",
        "        elif fn.endswith('.mp3'):\n",
        "            os.system(f'ffmpeg -i \"{rfn}\" -aq 1 \"{destfn}.ogg\"')\n",
        "            shutil.move(destfn+'.ogg', destfn)\n",
        "            continue\n",
        "        else:\n",
        "            if rfn.endswith('npc-26.txt'): print('!!')\n",
        "            shutil.copy(rfn, destfn)\n",
        "            continue\n",
        "        _output = os.popen(f'identify -format \"%[fx:w*2],%[fx:h*2]\" \"{bmpfn}\"').read()\n",
        "        w, h = _output.split(',')\n",
        "        open(t3xfn+'.size','w').write(f'{w:>4}\\n{h:>4}\\n')\n",
        "        t3xfns = [t3xfn]\n",
        "        bmpfns = [bmpfn]\n",
        "        if int(h) > 2048:\n",
        "            os.system(f'convert \"{bmpfn}\" -crop {w}x1024 \"{bmpfn}%d.bmp\"')\n",
        "            os.remove(bmpfn)\n",
        "            shutil.move(bmpfn+'0.bmp', bmpfn) #???\n",
        "            t3xfns.append(t3xfn+'1')\n",
        "            bmpfns.append(bmpfn+'1.bmp')\n",
        "            if int(h) > 4096:\n",
        "                t3xfns.append(t3xfn+'2')\n",
        "                bmpfns.append(bmpfn+'2.bmp')\n",
        "        for t3xfn_i, bmpfn_i in zip(t3xfns, bmpfns):\n",
        "            if PREVIEW:\n",
        "                pvwfn_i = t3xfn_i+'.bmp'\n",
        "                os.system(f'tex3ds \"{bmpfn_i}\" -f rgba8888 -o \"{t3xfn_i}\" -p \"{pvwfn_i}\"')\n",
        "            else:\n",
        "                if os.system(f'tex3ds \"{bmpfn_i}\" -f rgba8888 -o \"{t3xfn_i}\"'):\n",
        "                    print(f'During call `tex3ds \"{bmpfn_i}\" -f rgba8888 -o \"{t3xfn_i}\"`,')\n",
        "                    print(f\"    something didn't work and {t3xfn_i} is missing. (Size: {w}x{h})\")\n",
        "                os.remove(bmpfn_i)"
      ],
      "execution_count": null,
      "outputs": []
    },
    {
      "cell_type": "markdown",
      "metadata": {
        "id": "ZFPt-IFg4QJg"
      },
      "source": [
        "# Download your newly converted episode(s)\n",
        "\n",
        "Save the romfs package to /3ds/thextech on your SD card. You may store multiple episode packages with different filenames so long as they have the .romfs file extension."
      ]
    },
    {
      "cell_type": "code",
      "metadata": {
        "colab": {
          "base_uri": "https://localhost:8080/",
          "height": 17
        },
        "id": "N9lIZs8Ovupe",
        "outputId": "afb26e4d-4e7e-4dc8-e6a7-51f5ff0a836f"
      },
      "source": [
        "!mkromfs3ds converted converted.romfs\n",
        "from google.colab import files\n",
        "files.download('converted.romfs')"
      ],
      "execution_count": 105,
      "outputs": [
        {
          "output_type": "display_data",
          "data": {
            "application/javascript": [
              "\n",
              "    async function download(id, filename, size) {\n",
              "      if (!google.colab.kernel.accessAllowed) {\n",
              "        return;\n",
              "      }\n",
              "      const div = document.createElement('div');\n",
              "      const label = document.createElement('label');\n",
              "      label.textContent = `Downloading \"${filename}\": `;\n",
              "      div.appendChild(label);\n",
              "      const progress = document.createElement('progress');\n",
              "      progress.max = size;\n",
              "      div.appendChild(progress);\n",
              "      document.body.appendChild(div);\n",
              "\n",
              "      const buffers = [];\n",
              "      let downloaded = 0;\n",
              "\n",
              "      const channel = await google.colab.kernel.comms.open(id);\n",
              "      // Send a message to notify the kernel that we're ready.\n",
              "      channel.send({})\n",
              "\n",
              "      for await (const message of channel.messages) {\n",
              "        // Send a message to notify the kernel that we're ready.\n",
              "        channel.send({})\n",
              "        if (message.buffers) {\n",
              "          for (const buffer of message.buffers) {\n",
              "            buffers.push(buffer);\n",
              "            downloaded += buffer.byteLength;\n",
              "            progress.value = downloaded;\n",
              "          }\n",
              "        }\n",
              "      }\n",
              "      const blob = new Blob(buffers, {type: 'application/binary'});\n",
              "      const a = document.createElement('a');\n",
              "      a.href = window.URL.createObjectURL(blob);\n",
              "      a.download = filename;\n",
              "      div.appendChild(a);\n",
              "      a.click();\n",
              "      div.remove();\n",
              "    }\n",
              "  "
            ],
            "text/plain": [
              "<IPython.core.display.Javascript object>"
            ]
          },
          "metadata": {
            "tags": []
          }
        },
        {
          "output_type": "display_data",
          "data": {
            "application/javascript": [
              "download(\"download_09886585-e788-4441-bff6-8804ff6895f3\", \"converted.romfs\", 20609900)"
            ],
            "text/plain": [
              "<IPython.core.display.Javascript object>"
            ]
          },
          "metadata": {
            "tags": []
          }
        }
      ]
    }
  ]
}