{
  "nbformat": 4,
  "nbformat_minor": 0,
  "metadata": {
    "colab": {
      "name": "ep-convert-test.ipynb",
      "provenance": []
    },
    "kernelspec": {
      "name": "python3",
      "display_name": "Python 3"
    },
    "language_info": {
      "name": "python"
    }
  },
  "cells": [
    {
      "cell_type": "markdown",
      "metadata": {
        "id": "VST6EpnvAbb6"
      },
      "source": [
        "Run me in your browser at [https://colab.research.google.com/github/ds-sloth/TheXTech3DS/blob/master/ep_convert_test.ipynb](https://colab.research.google.com/github/ds-sloth/TheXTech3DS/blob/master/ep_convert_test.ipynb)!"
      ]
    },
    {
      "cell_type": "markdown",
      "metadata": {
        "id": "ORwZiJ4lz97T"
      },
      "source": [
        "# Build and install conversion tools"
      ]
    },
    {
      "cell_type": "code",
      "metadata": {
        "id": "GtGivS41jWj1"
      },
      "source": [
        "!apt install imagemagick libmagick++-dev libfftw3-dev ffmpeg git automake dtrx\n",
        "!git clone \"https://github.com/devkitPro/3dstools\" 3dstools; cd 3dstools; ./autogen.sh; ./configure; make; mv mkromfs3ds /usr/local/bin; cd ..; rm 3dstools -rf\n",
        "!git clone \"https://github.com/devkitPro/tex3ds\" tex3ds; cd tex3ds; ./autogen.sh; ./configure; make; mv tex3ds /usr/local/bin; cd ..; rm tex3ds -rf"
      ],
      "execution_count": null,
      "outputs": []
    },
    {
      "cell_type": "markdown",
      "metadata": {
        "id": "NgQLh9Wn0HqP"
      },
      "source": [
        "# Upload an archive file containing your episode(s)"
      ]
    },
    {
      "cell_type": "code",
      "metadata": {
        "id": "JWrvyg2bjlgk"
      },
      "source": [
        "from google.colab import files\n",
        "uploaded = files.upload()\n",
        "filename = None\n",
        "# find the first item that just got uploaded\n",
        "for filename in uploaded.keys():\n",
        "    break\n",
        "if filename is None:\n",
        "    raise RuntimeError(\"No file supplied; please repeat.\")\n",
        "!mkdir uploaded; cd uploaded; dtrx --one here -f \"../$filename\"; rm \"../$filename\"\n",
        "\n",
        "# figure out which nesting level contains episodes\n",
        "import os\n",
        "import shutil\n",
        "episode_folder = 'uploaded'\n",
        "episode_found = False\n",
        "while not episode_found:\n",
        "    for i in os.listdir(episode_folder):\n",
        "        if i.endswith('.wld') or i.endswith('.wldx'):\n",
        "            episode_found = True\n",
        "            break\n",
        "    if not episode_found:\n",
        "        for i in os.listdir(episode_folder):\n",
        "            if os.path.isdir(os.path.join(episode_folder, i)):\n",
        "                episode_folder = os.path.join(episode_folder, i)\n",
        "                break\n",
        "        # if no subfolders were found, and this is not an episode\n",
        "        else:\n",
        "            raise RuntimeError(\"Could not find episode directory -- ensure you have uploaded an episode folder or a folder containing only episode folders.\")\n",
        "\n",
        "if episode_folder == 'uploaded':\n",
        "    os.mkdir('episodes')\n",
        "    shutil.move('uploaded', 'episodes/episode')\n",
        "else:\n",
        "    shutil.move(episode_folder[:episode_folder.rfind('/')], 'episodes')"
      ],
      "execution_count": null,
      "outputs": []
    },
    {
      "cell_type": "markdown",
      "metadata": {
        "id": "dgkuHsey4Ezm"
      },
      "source": [
        "# Convert your episode to 3DS format!"
      ]
    },
    {
      "cell_type": "code",
      "metadata": {
        "id": "pYXvMQNdnmRw"
      },
      "source": [
        "#!/usr/bin/python3\n",
        "\n",
        "# this is a simple script\n",
        "\n",
        "import os\n",
        "import sys\n",
        "import shutil\n",
        "import tqdm\n",
        "\n",
        "PREVIEW = False\n",
        "REDO = False\n",
        "datadir = 'episodes'\n",
        "graphicsdir = os.path.join(datadir, 'graphics')\n",
        "outdir = 'converted'\n",
        "\n",
        "for dirpath, _, files in tqdm.tqdm(list(os.walk(datadir, topdown=True))):\n",
        "    outpath = outdir+dirpath[len(datadir):]\n",
        "    os.makedirs(outpath, exist_ok=True)\n",
        "    for fn in files:\n",
        "        rfn = os.path.join(dirpath, fn)\n",
        "        if not os.path.isfile(rfn): continue\n",
        "        destfn = os.path.join(outpath, fn)\n",
        "        bmpfn = os.path.join(outpath, fn[:-3]+'bmp')\n",
        "        t3xfn = os.path.join(outpath, fn[:-3]+'png')\n",
        "        if not REDO and (os.path.isfile(destfn) or ((fn.endswith('.gif') or fn.endswith('.png')) and os.path.isfile(t3xfn))): continue\n",
        "        #print(rfn)\n",
        "        if fn.endswith('.png'):\n",
        "            os.system(f'convert -sample 50% \"{rfn}\" \"{bmpfn}\"')\n",
        "        elif fn.endswith('m.gif') and os.path.isfile(rfn[:-5]+'.gif'):\n",
        "            continue\n",
        "        elif fn.endswith('.gif'):\n",
        "            maskfn = rfn[:-4]+'m.gif'\n",
        "            ftype = fn[:fn.rfind('-')]\n",
        "            altmaskfn_gif = os.path.join(graphicsdir, ftype, fn[:-4]+'m.gif')\n",
        "            altmaskfn_png = os.path.join(graphicsdir, ftype, fn[:-4]+'.png')\n",
        "            if os.path.isfile(maskfn):\n",
        "                os.system(f'convert \"{rfn}\" \"{maskfn}\" -alpha Off -compose CopyOpacity -composite -channel a -negate +channel -sample 50% -compress None \"{bmpfn}\"')\n",
        "            elif os.path.isfile(altmaskfn_gif):\n",
        "                if os.popen(f'identify -format \"%[fx:w*2],%[fx:h*2]\" \"{rfn}\"').read() == os.popen(f'identify -format \"%[fx:w*2],%[fx:h*2]\" \"{altmaskfn_gif}\"').read():\n",
        "                    os.system(f'convert \"{rfn}\" \"{altmaskfn_gif}\" -alpha Off -compose CopyOpacity -composite -channel a -negate +channel -sample 50% -compress None \"{bmpfn}\"')\n",
        "                else:\n",
        "                    os.system(f'convert -sample 50% -compress None \"{rfn}\" \"{bmpfn}\"')\n",
        "            elif os.path.isfile(altmaskfn_png):\n",
        "                if os.popen(f'identify -format \"%[fx:w*2],%[fx:h*2]\" \"{rfn}\"').read() == os.popen(f'identify -format \"%[fx:w*2],%[fx:h*2]\" \"{altmaskfn_png}\"').read():\n",
        "                    os.system(f'convert \"{rfn}\" \"{altmaskfn_png}\" -alpha On -compose CopyOpacity -composite -sample 50% -compress None \"{bmpfn}\"')\n",
        "                else:\n",
        "                    os.system(f'convert -sample 50% -compress None \"{rfn}\" \"{bmpfn}\"')\n",
        "            else:\n",
        "                os.system(f'convert -sample 50% -compress None \"{rfn}\" \"{bmpfn}\"')\n",
        "        elif fn.endswith('.db'):\n",
        "            continue\n",
        "        elif fn.endswith('.ogg'): continue\n",
        "        elif fn.endswith('.mp3'):\n",
        "            os.system(f'ffmpeg -i \"{rfn}\" -aq 1 \"{destfn}.ogg\"')\n",
        "            shutil.move(destfn+'.ogg', destfn)\n",
        "            continue\n",
        "        else:\n",
        "            shutil.copy(rfn, destfn)\n",
        "            continue\n",
        "        _output = os.popen(f'identify -format \"%[fx:w*2],%[fx:h*2]\" \"{bmpfn}\"').read()\n",
        "        w, h = _output.split(',')\n",
        "        open(t3xfn+'.size','w').write(f'{w:>4}\\n{h:>4}\\n')\n",
        "        t3xfns = [t3xfn]\n",
        "        bmpfns = [bmpfn]\n",
        "        if int(h) > 2048:\n",
        "            os.system(f'convert \"{bmpfn}\" -crop {w}x1024 -compress None \"{bmpfn}%d.bmp\"')\n",
        "            os.remove(bmpfn)\n",
        "            shutil.move(bmpfn+'0.bmp', bmpfn) #???\n",
        "            t3xfns.append(t3xfn+'1')\n",
        "            bmpfns.append(bmpfn+'1.bmp')\n",
        "            if int(h) > 4096:\n",
        "                t3xfns.append(t3xfn+'2')\n",
        "                bmpfns.append(bmpfn+'2.bmp')\n",
        "        for t3xfn_i, bmpfn_i in zip(t3xfns, bmpfns):\n",
        "            if PREVIEW:\n",
        "                pvwfn_i = t3xfn_i+'.bmp'\n",
        "                os.system(f'tex3ds \"{bmpfn_i}\" -f rgba8888 -o \"{t3xfn_i}\" -p \"{pvwfn_i}\"')\n",
        "            else:\n",
        "                if os.system(f'tex3ds \"{bmpfn_i}\" -f rgba8888 -o \"{t3xfn_i}\"'):\n",
        "                    print(f'During call `tex3ds \"{bmpfn_i}\" -f rgba8888 -o \"{t3xfn_i}\"`,')\n",
        "                    print(f\"    something didn't work and {t3xfn_i} is missing. (Size: {w}x{h})\")\n",
        "                os.remove(bmpfn_i)"
      ],
      "execution_count": null,
      "outputs": []
    },
    {
      "cell_type": "markdown",
      "metadata": {
        "id": "ZFPt-IFg4QJg"
      },
      "source": [
        "# Download your newly converted episode(s)\n",
        "\n",
        "Save the romfs package to /3ds/thextech on your SD card. You may store multiple episode packages with different filenames so long as they have the .romfs file extension."
      ]
    },
    {
      "cell_type": "code",
      "metadata": {
        "id": "N9lIZs8Ovupe"
      },
      "source": [
        "!mkromfs3ds converted converted.romfs\n",
        "from google.colab import files\n",
        "files.download('converted.romfs')"
      ],
      "execution_count": null,
      "outputs": []
    }
  ]
}